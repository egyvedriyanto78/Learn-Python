{
  "nbformat": 4,
  "nbformat_minor": 0,
  "metadata": {
    "colab": {
      "provenance": []
    },
    "kernelspec": {
      "name": "python3",
      "display_name": "Python 3"
    },
    "language_info": {
      "name": "python"
    }
  },
  "cells": [
    {
      "cell_type": "markdown",
      "source": [
        "Egy Vedriyanto\n",
        "\n",
        "2117051035\n",
        "\n",
        "Kelas B"
      ],
      "metadata": {
        "id": "7ih1bywHhcox"
      }
    },
    {
      "cell_type": "markdown",
      "source": [
        "#Import"
      ],
      "metadata": {
        "id": "sHZ97Cmb_piZ"
      }
    },
    {
      "cell_type": "code",
      "source": [
        "import json, requests"
      ],
      "metadata": {
        "id": "75hczWY0hhso"
      },
      "execution_count": 16,
      "outputs": []
    },
    {
      "cell_type": "markdown",
      "source": [
        "#Menampilkan home"
      ],
      "metadata": {
        "id": "ismFxbC0APUL"
      }
    },
    {
      "cell_type": "code",
      "source": [
        "anime = requests.get('https://otakudesu-api.herokuapp.com/api/home')"
      ],
      "metadata": {
        "id": "g419xohHuxqg"
      },
      "execution_count": 17,
      "outputs": []
    },
    {
      "cell_type": "code",
      "source": [
        "anime"
      ],
      "metadata": {
        "colab": {
          "base_uri": "https://localhost:8080/"
        },
        "id": "ZZ2XT8EoU3Qd",
        "outputId": "db9851ac-26d3-4119-cc30-2da4b261c4dc"
      },
      "execution_count": 18,
      "outputs": [
        {
          "output_type": "execute_result",
          "data": {
            "text/plain": [
              "<Response [200]>"
            ]
          },
          "metadata": {},
          "execution_count": 18
        }
      ]
    },
    {
      "cell_type": "code",
      "source": [
        "anime = anime.json()"
      ],
      "metadata": {
        "id": "_qckDb0Zd2ls"
      },
      "execution_count": 19,
      "outputs": []
    },
    {
      "cell_type": "code",
      "source": [
        "anime"
      ],
      "metadata": {
        "id": "HqhfHbMNfevQ"
      },
      "execution_count": null,
      "outputs": []
    },
    {
      "cell_type": "markdown",
      "source": [
        "#Menampilkan Anime Completed"
      ],
      "metadata": {
        "id": "5Ko9l4-wDA6s"
      }
    },
    {
      "cell_type": "code",
      "source": [
        "complete = requests.get('https://otakudesu-api.herokuapp.com/api/complete')"
      ],
      "metadata": {
        "id": "QPlZkbr_B0Y6"
      },
      "execution_count": 22,
      "outputs": []
    },
    {
      "cell_type": "code",
      "source": [
        "complete = complete.json()"
      ],
      "metadata": {
        "id": "gOGDtKQ5CWfj"
      },
      "execution_count": 23,
      "outputs": []
    },
    {
      "cell_type": "code",
      "source": [
        "complete "
      ],
      "metadata": {
        "id": "SqL92fQRCi3E"
      },
      "execution_count": null,
      "outputs": []
    },
    {
      "cell_type": "code",
      "source": [
        "for x in complete['animeList']:\n",
        "    print(' Title\\t\\t:',x['title'], '\\n',\n",
        "          'Episode\\t:',x['episode'], '\\n',\n",
        "          'Last updated\\t:',x['uploaded_on'], '\\n',\n",
        "          'Rating\\t\\t:',x['score'], '\\n',\n",
        "          'Link\\t\\t:',x['link'], '\\n') "
      ],
      "metadata": {
        "id": "UKvB6hYOCq0L"
      },
      "execution_count": null,
      "outputs": []
    },
    {
      "cell_type": "markdown",
      "source": [
        "#Menampilkan Jadwal Anime"
      ],
      "metadata": {
        "id": "rzGBNFXKDi-b"
      }
    },
    {
      "cell_type": "code",
      "source": [
        "schedule = requests.get('https://otakudesu-api.herokuapp.com/api/schedule')"
      ],
      "metadata": {
        "id": "CgWMXtVXDsKI"
      },
      "execution_count": 61,
      "outputs": []
    },
    {
      "cell_type": "code",
      "source": [
        "sch = schedule.json()"
      ],
      "metadata": {
        "id": "EV1YoRK5D7xS"
      },
      "execution_count": 62,
      "outputs": []
    },
    {
      "cell_type": "code",
      "source": [
        "sch"
      ],
      "metadata": {
        "id": "-BouavEXECx9"
      },
      "execution_count": null,
      "outputs": []
    },
    {
      "cell_type": "code",
      "source": [
        "sched = sch['scheduleList']"
      ],
      "metadata": {
        "id": "2rBLIkJ2FAPr"
      },
      "execution_count": 64,
      "outputs": []
    },
    {
      "cell_type": "code",
      "source": [
        "sched"
      ],
      "metadata": {
        "id": "wC21vmBRHXuC"
      },
      "execution_count": null,
      "outputs": []
    },
    {
      "cell_type": "markdown",
      "source": [
        "#Genre"
      ],
      "metadata": {
        "id": "1riYzepyLYea"
      }
    },
    {
      "cell_type": "code",
      "source": [
        "genre = requests.get('https://otakudesu-api.herokuapp.com/api/genres')"
      ],
      "metadata": {
        "id": "S7JX3tr_Le8f"
      },
      "execution_count": 66,
      "outputs": []
    },
    {
      "cell_type": "code",
      "source": [
        "genre = genre.json()"
      ],
      "metadata": {
        "id": "Je7U-28VLyqA"
      },
      "execution_count": 67,
      "outputs": []
    },
    {
      "cell_type": "code",
      "source": [
        "for i in genre['genreList']:\n",
        "    print('Genre\\t\\t:',i['genre_name'],'\\n',\n",
        "          'Link\\t\\t:',i['link'],'\\n')"
      ],
      "metadata": {
        "id": "k9fntPmsL4hP"
      },
      "execution_count": null,
      "outputs": []
    },
    {
      "cell_type": "markdown",
      "source": [
        "#Searching anime"
      ],
      "metadata": {
        "id": "CL19KkaAOCnz"
      }
    },
    {
      "cell_type": "code",
      "source": [
        "search = requests.get('https://otakudesu-api.herokuapp.com/api/home')"
      ],
      "metadata": {
        "id": "IiWyCFAMOMGM"
      },
      "execution_count": 85,
      "outputs": []
    },
    {
      "cell_type": "code",
      "source": [
        "find = search.json()"
      ],
      "metadata": {
        "id": "92VeEMhjObDw"
      },
      "execution_count": 86,
      "outputs": []
    },
    {
      "cell_type": "code",
      "source": [
        "find_ = find['home']\n",
        "find_"
      ],
      "metadata": {
        "id": "R66pxya5Ok9p"
      },
      "execution_count": null,
      "outputs": []
    },
    {
      "cell_type": "code",
      "source": [
        "def search(judul):\n",
        "    for x in find_[stt]:\n",
        "        if x['title'] == judul:\n",
        "            print(' Judul\\t\\t:',x['title'],'\\n',\n",
        "                  'Episode\\t:',x['episode'],'\\n',\n",
        "                  'Link\\t\\t:',x['link'])\n",
        "\n",
        "status = int(input(\"Input (on_going = 1) or (complete = 2)\\t: \"))\n",
        "if status == 1:\n",
        "    stt = \"on_going\"\n",
        "elif status == 2:\n",
        "    stt = \"complete\"\n",
        "\n",
        "judul = input(\"Search title\\t: \")\n",
        "print()\n",
        "search(judul)"
      ],
      "metadata": {
        "colab": {
          "base_uri": "https://localhost:8080/"
        },
        "id": "H1c3VVscRjPn",
        "outputId": "a4ad3359-db7b-431e-bba9-739300fce0e1"
      },
      "execution_count": 110,
      "outputs": [
        {
          "output_type": "stream",
          "name": "stdout",
          "text": [
            "Input (on_going = 1) or (complete = 2)\t: 2\n",
            "Search title\t: Orient Season 2\n",
            "\n",
            " Judul\t\t: Orient Season 2 \n",
            " Episode\t: 12Episode \n",
            " Link\t\t: https://otakudesu.bid/anime/orient-p2-sub-indo/\n"
          ]
        }
      ]
    }
  ]
}